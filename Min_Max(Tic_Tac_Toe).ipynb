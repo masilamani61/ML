{
  "nbformat": 4,
  "nbformat_minor": 0,
  "metadata": {
    "colab": {
      "provenance": [],
      "authorship_tag": "ABX9TyPEFz3n9aUrAm58OjkEsDIQ",
      "include_colab_link": true
    },
    "kernelspec": {
      "name": "python3",
      "display_name": "Python 3"
    },
    "language_info": {
      "name": "python"
    }
  },
  "cells": [
    {
      "cell_type": "markdown",
      "metadata": {
        "id": "view-in-github",
        "colab_type": "text"
      },
      "source": [
        "<a href=\"https://colab.research.google.com/github/masilamani61/ML/blob/main/Min_Max(Tic_Tac_Toe).ipynb\" target=\"_parent\"><img src=\"https://colab.research.google.com/assets/colab-badge.svg\" alt=\"Open In Colab\"/></a>"
      ]
    },
    {
      "cell_type": "code",
      "source": [
        "import math\n",
        "\n",
        "def evaluate(board):\n",
        "    for i in range(3):\n",
        "        if board[i][0] == board[i][1] == board[i][2]:\n",
        "            if board[i][0] == 1:\n",
        "                return 10\n",
        "            elif board[i][0] == -1:\n",
        "                return -10\n",
        "\n",
        "\n",
        "        if board[0][i] == board[1][i] == board[2][i]:\n",
        "            if board[0][i] == 1:\n",
        "                return 10\n",
        "            elif board[0][i] == -1:\n",
        "                return -10\n",
        "\n",
        "    if board[0][0] == board[1][1] == board[2][2]:\n",
        "        if board[0][0] == 1:\n",
        "            return 10\n",
        "        elif board[0][0] == -1:\n",
        "            return -10\n",
        "    if board[0][2] == board[1][1] == board[2][0]:\n",
        "        if board[0][2] == 1:\n",
        "            return 10\n",
        "        elif board[0][2] == -1:\n",
        "            return -10\n",
        "\n",
        "    return 0\n",
        "\n",
        "def is_board_full(board):\n",
        "    for row in board:\n",
        "        if 0 in row:\n",
        "            return False\n",
        "    return True\n",
        "\n",
        "def minimax(board, depth, is_maximizing_player):\n",
        "    score = evaluate(board)\n",
        "\n",
        "    if score == 10:\n",
        "        return score - depth\n",
        "    if score == -10:\n",
        "        return score + depth\n",
        "    if is_board_full(board):\n",
        "        return 0\n",
        "\n",
        "    if is_maximizing_player:\n",
        "        best = -math.inf\n",
        "        for i in range(3):\n",
        "            for j in range(3):\n",
        "                if board[i][j] == 0:\n",
        "                    board[i][j] = 1\n",
        "                    best = max(best, minimax(board, depth + 1, False))\n",
        "                    board[i][j] = 0\n",
        "\n",
        "        return best\n",
        "    else:\n",
        "        best = math.inf\n",
        "\n",
        "        for i in range(3):\n",
        "            for j in range(3):\n",
        "                if board[i][j] == 0:\n",
        "                    board[i][j] = -1\n",
        "                    best = min(best, minimax(board, depth + 1, True))\n",
        "                    board[i][j] = 0\n",
        "\n",
        "        return best\n",
        "\n",
        "def find_best_move(board):\n",
        "    best_val = -math.inf\n",
        "    best_move = (-1, -1)\n",
        "\n",
        "    for i in range(3):\n",
        "        for j in range(3):\n",
        "            if board[i][j] == 0:\n",
        "                board[i][j] = 1\n",
        "                move_val = minimax(board, 0, False)\n",
        "\n",
        "                if move_val > best_val:\n",
        "                    best_move = (i, j)\n",
        "                    best_val = move_val\n",
        "\n",
        "    return best_move"
      ],
      "metadata": {
        "id": "pyogN9ptlb7N"
      },
      "execution_count": 7,
      "outputs": []
    },
    {
      "cell_type": "code",
      "source": [
        "find_best_move([[0,0,0],[0,1,1],[0,-1,-1]])"
      ],
      "metadata": {
        "colab": {
          "base_uri": "https://localhost:8080/"
        },
        "id": "IHmqW5V0lfsj",
        "outputId": "5bb9e026-345f-4b4b-8fd9-b2e7a1d86df7"
      },
      "execution_count": 8,
      "outputs": [
        {
          "output_type": "execute_result",
          "data": {
            "text/plain": [
              "(1, 0)"
            ]
          },
          "metadata": {},
          "execution_count": 8
        }
      ]
    }
  ]
}