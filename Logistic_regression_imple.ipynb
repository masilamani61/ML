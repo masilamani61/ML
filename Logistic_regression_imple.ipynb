{
  "nbformat": 4,
  "nbformat_minor": 0,
  "metadata": {
    "colab": {
      "provenance": [],
      "authorship_tag": "ABX9TyNgTmoujmoiSDARMi3pQ06z",
      "include_colab_link": true
    },
    "kernelspec": {
      "name": "python3",
      "display_name": "Python 3"
    },
    "language_info": {
      "name": "python"
    }
  },
  "cells": [
    {
      "cell_type": "markdown",
      "metadata": {
        "id": "view-in-github",
        "colab_type": "text"
      },
      "source": [
        "<a href=\"https://colab.research.google.com/github/masilamani61/ML/blob/main/Logistic_regression_imple.ipynb\" target=\"_parent\"><img src=\"https://colab.research.google.com/assets/colab-badge.svg\" alt=\"Open In Colab\"/></a>"
      ]
    },
    {
      "cell_type": "code",
      "execution_count": 1,
      "metadata": {
        "id": "yb7tWu0Ez1KC"
      },
      "outputs": [],
      "source": [
        "import numpy as np,pandas as pd"
      ]
    },
    {
      "cell_type": "code",
      "source": [
        "def Sigmoid(p):\n",
        "  ans=[]\n",
        "  for i in p:\n",
        "    ans.append(1/(1+np.exp(-i)))\n",
        "  ans=ans.transpose\n",
        "  return ans\n",
        "class LogisticRegression():\n",
        "  def __init__(self,lr):\n",
        "    self.lr=lr\n",
        "    self.weights=None\n",
        "    self.bias=None\n",
        "  def fit(self,X,y):\n",
        "    n=len(X)\n",
        "    self.weights=np.zeros(X.shape[1])\n",
        "    self.bias = 0\n",
        "    for i in range(1000):\n",
        "      p=np.dot(X,self.weights.transpose)\n",
        "      predict=Sigmoid(p)\n",
        "      dw=2/n*(np.dot(X.transpose,(y-predict)))\n",
        "      db=1/n*(np.sum(y-predict))\n",
        "      self.weights=self.weights-self.lr*(dw)\n",
        "      self.bias=self.bias-self.lr*(dw)\n",
        "  def predict(self,X):\n",
        "    p=np.dot(X,self.weights.transpose)\n",
        "    predict=Sigmoid(p)\n",
        "    return predict\n",
        "\n",
        "\n",
        "\n",
        "\n"
      ],
      "metadata": {
        "id": "oMhQCLcL0CQ9"
      },
      "execution_count": 2,
      "outputs": []
    }
  ]
}