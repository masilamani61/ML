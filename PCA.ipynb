{
  "nbformat": 4,
  "nbformat_minor": 0,
  "metadata": {
    "colab": {
      "provenance": [],
      "authorship_tag": "ABX9TyPTcJRCP+uPgRnfJ0r6XXVp",
      "include_colab_link": true
    },
    "kernelspec": {
      "name": "python3",
      "display_name": "Python 3"
    },
    "language_info": {
      "name": "python"
    }
  },
  "cells": [
    {
      "cell_type": "markdown",
      "metadata": {
        "id": "view-in-github",
        "colab_type": "text"
      },
      "source": [
        "<a href=\"https://colab.research.google.com/github/masilamani61/ML/blob/main/PCA.ipynb\" target=\"_parent\"><img src=\"https://colab.research.google.com/assets/colab-badge.svg\" alt=\"Open In Colab\"/></a>"
      ]
    },
    {
      "cell_type": "code",
      "source": [
        "import numpy as np"
      ],
      "metadata": {
        "id": "nECmI-D3ec6d"
      },
      "execution_count": 1,
      "outputs": []
    },
    {
      "cell_type": "code",
      "execution_count": null,
      "metadata": {
        "id": "9FHDJFFkWft9"
      },
      "outputs": [],
      "source": [
        "class PCA:\n",
        "  def __init__(self,dime):\n",
        "    self.dimension=dime\n",
        "    self.eigenvector=None\n",
        "    self.eigen_values=None\n",
        "    self.x=None\n",
        "  def fit(self,X):\n",
        "    new_matrix = np.cov(X.transpose())\n",
        "    eig,eig_vec = np.linalg.eig(new_matrix)\n",
        "    new_list=[(eig[i],i) for i in range(len(eig))]\n",
        "    new_list.sort(reversed=True)\n",
        "    self.eigenvector=[eig_vec[i] for _,i in new_list]\n",
        "    self.x=X\n",
        "\n",
        "  def transform(self,dim,x):\n",
        "    P=np.array(self.eigenvector[:dim])\n",
        "    return np.dot(x-np.mean(self.x,axis=0),P.transpose())\n",
        "\n",
        "\n",
        "\n",
        "\n",
        "\n",
        "\n",
        "\n",
        "\n",
        "\n",
        "\n",
        "\n",
        "\n",
        "\n"
      ]
    },
    {
      "cell_type": "code",
      "source": [],
      "metadata": {
        "id": "yeHwBYR7ebvd"
      },
      "execution_count": null,
      "outputs": []
    }
  ]
}